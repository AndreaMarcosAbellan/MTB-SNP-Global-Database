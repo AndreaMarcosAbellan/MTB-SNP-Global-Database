{
 "cells": [
  {
   "cell_type": "markdown",
   "metadata": {},
   "source": [
    "**Enfoque del Script:** Concatenación de dataframes (1x muestra) y fusión de todos ellos en un solo dataframe sin duplicados mediante group by y con conteo de muestras que contienen ese SNP."
   ]
  },
  {
   "cell_type": "code",
   "execution_count": null,
   "metadata": {},
   "outputs": [],
   "source": [
    "import pandas as pd\n",
    "import os\n",
    "import glob\n",
    "from datetime import datetime\n",
    "\n",
    "main_directory = \"/home/laura/andrea/scripts/Samples_Script_Test\"\n",
    "output_directory = \"/home/laura/andrea/scripts/Filtered_SNPs_TB_DDBB/Script_2\"\n",
    "\n",
    "DDBB_file = \"/home/laura/andrea/scripts/Filtered_SNPs_TB_DDBB/Script_1/Filtered_SNPs_20250220_135355.tsv\"\n",
    "\n",
    "# DDBB en dataframe\n",
    "df_filtered_SNPs = pd.read_csv(DDBB_file, sep='\\t')"
   ]
  },
  {
   "cell_type": "markdown",
   "metadata": {},
   "source": [
    "**Filtrado de SNPS:**"
   ]
  },
  {
   "cell_type": "code",
   "execution_count": 6,
   "metadata": {},
   "outputs": [
    {
     "name": "stdout",
     "output_type": "stream",
     "text": [
      "          POS REF ALT                                            SAMPLES  \\\n",
      "0          29   C   G                                        SRR30362894   \n",
      "1        1179   G   C                                        SRR30362894   \n",
      "2        2005   G   A                                        SRR30362893   \n",
      "3        2532   C   T  SRR30362888, SRR30362889, SRR30362890, SRR3036...   \n",
      "4        4771   A   G                                        SRR30362895   \n",
      "...       ...  ..  ..                                                ...   \n",
      "2981  4408156   A   C                                        SRR30362895   \n",
      "2982  4408168   A   G                                        SRR30362888   \n",
      "2983  4408920   G   A  SRR30362888, SRR30362889, SRR30362890, SRR3036...   \n",
      "2984  4408923   T   C  SRR30362888, SRR30362889, SRR30362890, SRR3036...   \n",
      "2985  4410913   C   T              SRR30362890, SRR30362893, SRR30362897   \n",
      "\n",
      "      COUNT  \n",
      "0         1  \n",
      "1         1  \n",
      "2         1  \n",
      "3        10  \n",
      "4         1  \n",
      "...     ...  \n",
      "2981      1  \n",
      "2982      1  \n",
      "2983     10  \n",
      "2984     10  \n",
      "2985      3  \n",
      "\n",
      "[2986 rows x 5 columns]\n"
     ]
    }
   ],
   "source": [
    "df_files = None\n",
    "\n",
    "# Búsqueda de archivos TSV en todas las subcarpetas:\n",
    "for folder_path, subfolders, files in os.walk(main_directory):\n",
    "\n",
    "    if os.path.isdir(folder_path):\n",
    "        tsv_files = glob.glob(os.path.join(folder_path, \"snps.all.ivar.tsv\"))  # Busca archivos en cada subcarpeta con el patrón especificado\n",
    "\n",
    "        for file in tsv_files:\n",
    "            try:\n",
    "                df_file_sample = pd.read_csv(file, sep='\\t')\n",
    "\n",
    "                sample_name = os.path.basename(os.path.dirname(file))\n",
    "                df_file_sample[\"SAMPLES\"] = sample_name\n",
    "\n",
    "                # Filtros quality e INDELs:\n",
    "                df_file_sample = df_file_sample[(df_file_sample['TOTAL_DP'] >= 20) & (df_file_sample['ALT_FREQ'] >= 0.7)]\n",
    "                        \n",
    "                df_file_sample = df_file_sample[(df_file_sample['TYPE'] == \"snp\")]\n",
    "\n",
    "                if df_files is None:\n",
    "                    df_files = df_file_sample\n",
    "\n",
    "                else:\n",
    "                    df_files = pd.concat([df_files, df_file_sample], ignore_index = True)\n",
    "            \n",
    "            except Exception as e:\n",
    "                print(f'Error procesando {file}: {e}')\n",
    "\n",
    "# Fusionar filas con el mismo POS, REF y ALT:\n",
    "df_files = df_files.groupby(['POS', 'REF', 'ALT'], as_index=False).agg({'SAMPLES': lambda x: ', '.join(sorted(set(x)))}) # Unir nombres de muestras sin duplicados\n",
    "     \n",
    "df_files['COUNT'] = df_files['SAMPLES'].apply(lambda x: len(x.split(\", \")))\n",
    "\n",
    "print(df_files)\n",
    "\n",
    "timestamp = datetime.now().strftime(\"%Y%m%d_%H%M%S\")\n",
    "\n",
    "output_file = f'/home/laura/andrea/scripts/Filtered_SNPs_TB_DDBB/Script_2/Filtered_SNPs_fusionados_{timestamp}.tsv'\n",
    "df_files.to_csv(output_file, sep='\\t', index=False)"
   ]
  }
 ],
 "metadata": {
  "kernelspec": {
   "display_name": "andrea",
   "language": "python",
   "name": "python3"
  },
  "language_info": {
   "codemirror_mode": {
    "name": "ipython",
    "version": 3
   },
   "file_extension": ".py",
   "mimetype": "text/x-python",
   "name": "python",
   "nbconvert_exporter": "python",
   "pygments_lexer": "ipython3",
   "version": "3.11.8"
  }
 },
 "nbformat": 4,
 "nbformat_minor": 2
}
