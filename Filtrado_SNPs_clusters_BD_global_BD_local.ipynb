{
 "cells": [
  {
   "cell_type": "markdown",
   "metadata": {},
   "source": [
    "### Filtrado de SNPs marcadores en cluster con la BD global y la BD local\n",
    "\n"
   ]
  },
  {
   "cell_type": "code",
   "execution_count": null,
   "metadata": {},
   "outputs": [],
   "source": [
    "import pandas as pd"
   ]
  },
  {
   "cell_type": "markdown",
   "metadata": {},
   "source": [
    "**1era fase del filtrado:**\n",
    "\n",
    "Se comparan los SNPs generados tras el módulo Compare del programa autosnippy con la BD global y se extraen los SNPS que no aparecen en ella, SNPs únicos de cada clúster:"
   ]
  },
  {
   "cell_type": "code",
   "execution_count": 18,
   "metadata": {},
   "outputs": [],
   "source": [
    "DDBB_file = \"/home/laura/andrea/scripts/TB_DDBB_Building/Final_TB_DDBB_Prepared_for_Searching_20250423_114851.tsv\"\n",
    "cluster_SNPs_file = \"/home/laura/andrea/scripts/Resultados_TB_DDBB_SNPs_clusters/Boda/ONLY_common_SNPs.revised.csv\"\n",
    "cluster_name = \"Cluster_Boda\"\n",
    "\n",
    "# DDBB en dataframe\n",
    "df_DDBB = pd.read_csv(DDBB_file, sep='\\t')\n",
    "\n",
    "# Lista de SNPs de x cluster\n",
    "df_cluster_SNPs = pd.read_csv(cluster_SNPs_file, sep='\\t')\n",
    "\n",
    "# Filtrar SNPs que NO están en la base de datos (posición exclusiva)\n",
    "df_SNPs_vs_BBDD = df_cluster_SNPs[~df_cluster_SNPs['Position'].isin(df_DDBB['Position'])]\n",
    "\n",
    "output_df_files = f'/home/laura/andrea/scripts/Resultados_TB_DDBB_SNPs_clusters/Boda/SNPs_vs_DDBB_{cluster_name}.tsv'\n",
    "df_SNPs_vs_BBDD.to_csv(output_df_files, sep='\\t', index=False)"
   ]
  },
  {
   "cell_type": "markdown",
   "metadata": {},
   "source": [
    "**2da fase del filtrado:**\n",
    "\n",
    "Se comparan los SNPs generados tras el paso anterior con la BD de muestras del laboratorio (Madrid y Almería, principalmente) y se extraen los SNPS que no aparecen en ninguna de las BD:"
   ]
  },
  {
   "cell_type": "code",
   "execution_count": null,
   "metadata": {},
   "outputs": [],
   "source": [
    "DDBB_file = \"/home/laura/andrea/scripts/Lab_TB_DDBB_Building/Final_Lab_TB_DDBB_Prepared_for_Searching_without_test_samples.tsv\"\n",
    "cluster_SNPs_file = \"/home/laura/andrea/scripts/Resultados_TB_DDBB_SNPs_clusters/Boda/SNPs_vs_DDBB_Cluster_Boda\"\n",
    "cluster_name = \"Cluster_Boda\"\n",
    "\n",
    "# DDBB en dataframe\n",
    "df_DDBB = pd.read_csv(DDBB_file, sep='\\t')\n",
    "\n",
    "# Lista de SNPs de x cluster\n",
    "df_cluster_SNPs = pd.read_csv(cluster_SNPs_file, sep='\\t')\n",
    "\n",
    "# Filtrar SNPs que NO están en la base de datos (posición exclusiva)\n",
    "df_SNPs_vs_BBDD = df_cluster_SNPs[~df_cluster_SNPs['Position'].isin(df_DDBB['Position'])]\n",
    "\n",
    "output_df_files = f'/home/laura/andrea/scripts/Resultados_TB_DDBB_SNPs_clusters/Boda/SNPs_vs_WorldDDBB_vs_LabDDBB{cluster_name}.tsv'\n",
    "df_SNPs_vs_BBDD.to_csv(output_df_files, sep='\\t', index=False)"
   ]
  }
 ],
 "metadata": {
  "kernelspec": {
   "display_name": "andrea",
   "language": "python",
   "name": "python3"
  },
  "language_info": {
   "codemirror_mode": {
    "name": "ipython",
    "version": 3
   },
   "file_extension": ".py",
   "mimetype": "text/x-python",
   "name": "python",
   "nbconvert_exporter": "python",
   "pygments_lexer": "ipython3",
   "version": "3.11.8"
  }
 },
 "nbformat": 4,
 "nbformat_minor": 2
}
