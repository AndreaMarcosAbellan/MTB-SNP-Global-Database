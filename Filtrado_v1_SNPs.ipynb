{
 "cells": [
  {
   "cell_type": "markdown",
   "metadata": {},
   "source": [
    "**FILTRADO de SNPs - MUESTRAS ILLUMINA:**"
   ]
  },
  {
   "cell_type": "code",
   "execution_count": null,
   "metadata": {},
   "outputs": [],
   "source": [
    "import pandas as pd\n",
    "import os\n",
    "import glob\n",
    "from datetime import datetime"
   ]
  },
  {
   "cell_type": "code",
   "execution_count": null,
   "metadata": {},
   "outputs": [
    {
     "name": "stdout",
     "output_type": "stream",
     "text": [
      "Procesado: /home/laura/andrea/scripts/Samples_Script_Test/SRR30362897/snps.all.ivar.tsv -> SNPs añadidos a BBDD_TB\n",
      "Procesado: /home/laura/andrea/scripts/Samples_Script_Test/SRR30362892/snps.all.ivar.tsv -> SNPs añadidos a BBDD_TB\n",
      "Procesado: /home/laura/andrea/scripts/Samples_Script_Test/SRR30362890/snps.all.ivar.tsv -> SNPs añadidos a BBDD_TB\n",
      "Procesado: /home/laura/andrea/scripts/Samples_Script_Test/SRR30362893/snps.all.ivar.tsv -> SNPs añadidos a BBDD_TB\n",
      "Procesado: /home/laura/andrea/scripts/Samples_Script_Test/SRR30362891/snps.all.ivar.tsv -> SNPs añadidos a BBDD_TB\n",
      "Procesado: /home/laura/andrea/scripts/Samples_Script_Test/SRR30362896/snps.all.ivar.tsv -> SNPs añadidos a BBDD_TB\n",
      "Procesado: /home/laura/andrea/scripts/Samples_Script_Test/SRR30362888/snps.all.ivar.tsv -> SNPs añadidos a BBDD_TB\n",
      "Procesado: /home/laura/andrea/scripts/Samples_Script_Test/SRR30362895/snps.all.ivar.tsv -> SNPs añadidos a BBDD_TB\n",
      "Procesado: /home/laura/andrea/scripts/Samples_Script_Test/SRR30362889/snps.all.ivar.tsv -> SNPs añadidos a BBDD_TB\n",
      "Procesado: /home/laura/andrea/scripts/Samples_Script_Test/SRR30362894/snps.all.ivar.tsv -> SNPs añadidos a BBDD_TB\n",
      "Archivo guardado: /home/laura/andrea/scripts/Filtered_SNPs_TB_DDBB/Filtered_SNPs_20250220_135355.tsv\n"
     ]
    }
   ],
   "source": [
    "main_directory = \"/home/laura/andrea/scripts/Samples_Script_Test\"\n",
    "\n",
    "# Carpeta de salida para el archivo con los SNPs filtrados\n",
    "output_directory = \"/home/laura/andrea/scripts/Filtered_SNPs_TB_DDBB\"\n",
    "os.makedirs(output_directory, exist_ok=True)  # Crea la carpeta si no existe\n",
    "\n",
    "# DataFrame final BBDD_TB con las columnas de interés\n",
    "df_BBDD_TB = pd.DataFrame(columns=['REGION', 'POS', 'REF', 'ALT', 'SAMPLES'])\n",
    "\n",
    "# Búsqueda de archivos TSV en todas las subcarpetas\n",
    "for folder_path, subfolders, files in os.walk(main_directory):\n",
    "\n",
    "    if os.path.isdir(folder_path):\n",
    "        tsv_files = glob.glob(os.path.join(folder_path, \"snps.all.ivar.tsv\"))  # Busca archivos en cada subcarpeta con el patrón especificado\n",
    "\n",
    "        for file in tsv_files:\n",
    "            try:\n",
    "                # Cargar el archivo en un DataFrame\n",
    "                df = pd.read_csv(file, sep='\\t')\n",
    "\n",
    "                # FILTRADO por TOTAL_DP y ALT_FREQ\n",
    "                df_filtered = df[(df['TOTAL_DP'] >= 20) & (df['ALT_FREQ'] >= 0.7)]\n",
    "\n",
    "                # FILTRADO de SNPs, se quitan las INDELs\n",
    "                df_filtered = df_filtered[(df_filtered['TYPE'] == \"snp\")]\n",
    "\n",
    "                # Eliminar columnas innecesarias\n",
    "                df_filtered = df_filtered.drop(columns=['ID', 'ALT_QUAL', 'FILTER', 'TOTAL_DP', 'TYPE', 'REF_DP', \n",
    "                                                        'ALT_DP', 'REF_FREQ', 'ALT_FREQ', 'OLDVAR'], errors = 'ignore')\n",
    "\n",
    "                # Obtener el nombre de la muestra\n",
    "                sample_name = os.path.basename(folder_path)\n",
    "\n",
    "                # Comparar cada SNP con los ya existentes en df_BBDD_TB\n",
    "                for _, snp in df_filtered.iterrows():\n",
    "                    mask = (\n",
    "                        (df_BBDD_TB['POS'] == snp['POS']) & \n",
    "                        (df_BBDD_TB['REF'] == snp['REF']) & \n",
    "                        (df_BBDD_TB['ALT'] == snp['ALT'])\n",
    "                    )\n",
    "\n",
    "                    if mask.any():\n",
    "                        # Obtener el índice del SNP existente\n",
    "                        index = df_BBDD_TB.loc[mask].index[0]\n",
    "\n",
    "                        # Agregar nombre de la muestra si no está ya presente\n",
    "                        existing_samples = df_BBDD_TB.at[index, 'SAMPLES']\n",
    "                        if sample_name not in existing_samples.split(\", \"):  # Evita duplicados\n",
    "                            df_BBDD_TB.at[index, 'SAMPLES'] += f\", {sample_name}\"\n",
    "                    else:\n",
    "                        # SNP nuevo, añadirlo con la muestra asignada\n",
    "                        new_snp = snp.copy()\n",
    "                        new_snp['SAMPLES'] = sample_name\n",
    "                        df_BBDD_TB = pd.concat([df_BBDD_TB, pd.DataFrame([new_snp])], ignore_index=True)\n",
    "\n",
    "                print(f'Procesado: {file} -> SNPs añadidos a BBDD_TB')\n",
    "\n",
    "            except Exception as e:\n",
    "                print(f'Error procesando {file}: {e}')\n",
    "\n",
    "# Calcular COUNT como la cantidad de muestras en 'SAMPLES'\n",
    "df_BBDD_TB['COUNT'] = df_BBDD_TB['SAMPLES'].apply(lambda x: len(x.split(\", \")))\n",
    "\n",
    "# Ordenar los IDs de las muestras de la columna 'SAMPLES'\n",
    "df_BBDD_TB['SAMPLES'] = df_BBDD_TB['SAMPLES'].apply(lambda x: ', '.join(sorted(set(x.split(', ')))))\n",
    "\n",
    "# Ordenar SNPs por posición en el genoma de TB\n",
    "df_BBDD_TB.sort_values(by = ['POS'], inplace = True)\n",
    "\n",
    "# Generar nombre del archivo de salida\n",
    "timestamp = datetime.now().strftime(\"%Y%m%d_%H%M%S\")\n",
    "output_file = os.path.join(output_directory, f\"Filtered_SNPs_{timestamp}.tsv\")\n",
    "\n",
    "# Guardar el DataFrame final\n",
    "df_BBDD_TB.to_csv(output_file, encoding='utf-8', index=False, header=True, sep='\\t')\n",
    "\n",
    "print(f\"Archivo guardado: {output_file}\")"
   ]
  }
 ],
 "metadata": {
  "kernelspec": {
   "display_name": "andrea",
   "language": "python",
   "name": "python3"
  },
  "language_info": {
   "codemirror_mode": {
    "name": "ipython",
    "version": 3
   },
   "file_extension": ".py",
   "mimetype": "text/x-python",
   "name": "python",
   "nbconvert_exporter": "python",
   "pygments_lexer": "ipython3",
   "version": "3.11.8"
  }
 },
 "nbformat": 4,
 "nbformat_minor": 2
}
